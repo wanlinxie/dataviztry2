{
 "cells": [
  {
   "cell_type": "code",
   "execution_count": 2,
   "metadata": {
    "collapsed": false
   },
   "outputs": [
    {
     "name": "stdout",
     "output_type": "stream",
     "text": [
      "Facebook  today announced a first-of-its-kind licensing deal with Universal Music Group that will allow users across its properties – including Facebook,Instagram and Oculus – to use Universal Music in the videos they upload and share.\n",
      "compound: 0.4767, neg: 0.0, neu: 0.88, pos: 0.12, The deal will also allow Facebook to introduce new “music-based products” across platforms, also including Messenger, the companies said.Deal terms were not disclosed, but the partnership represents the first time a major music company has licensed its catalog for videos and other social features across Facebook.It means that Facebook will be working with Universal Music Group to ensure that artists’work is protected and compensated on Facebook and its platforms.\n",
      "compound: 0.8271, neg: 0.0, neu: 0.882, pos: 0.118, This will be done in a variety of ways, we understand, including by Facebook obtaining rights to launch experimental social music features over time.\n",
      "compound: 0.0, neg: 0.0, neu: 1.0, pos: 0.0, "
     ]
    }
   ],
   "source": [
    "from nltk.sentiment.vader import SentimentIntensityAnalyzer\n",
    "\n",
    "\n",
    "sentences = []\n",
    "paragraph = \"It was one of the worst movies I've seen, despite good reviews. \\\n",
    "... Unbelievably bad acting!! Poor direction. VERY poor production. \\\n",
    "... The movie was bad. Very bad movie. VERY bad movie. VERY BAD movie. VERY BAD movie!\"\n",
    "\n",
    "from nltk import tokenize\n",
    "#lines_list = tokenize.sent_tokenize(paragraph)\n",
    "#sentences.extend(lines_list)\n",
    "\n",
    "paragraph2 = \"Facebook  today announced a first-of-its-kind licensing deal with \\\n",
    "Universal Music Group that will allow users across its properties – including Facebook,\\\n",
    "Instagram and Oculus – to use Universal Music in the videos they upload and share. The deal \\\n",
    "will also allow Facebook to introduce new “music-based products” across platforms, also \\\n",
    "including Messenger, the companies said.\\\n",
    "Deal terms were not disclosed, but the partnership represents the first time a major music \\\n",
    "company has licensed its catalog for videos and other social features across Facebook.\\\n",
    "It means that Facebook will be working with Universal Music Group to ensure that artists’\\\n",
    "work is protected and compensated on Facebook and its platforms. This will be done in a \\\n",
    "variety of ways, we understand, including by Facebook obtaining rights to launch experimental \\\n",
    "social music features over time.\"\n",
    "lines_list = tokenize.sent_tokenize(paragraph2)\n",
    "sentences.extend(lines_list)\n",
    "\n",
    "sid = SentimentIntensityAnalyzer()\n",
    "for sentence in sentences:\n",
    "    print(sentence)\n",
    "    ss = sid.polarity_scores(sentence)\n",
    "    for k in sorted(ss):\n",
    "        print('{0}: {1}, '.format(k, ss[k]), end='')"
   ]
  },
  {
   "cell_type": "code",
   "execution_count": null,
   "metadata": {
    "collapsed": true
   },
   "outputs": [],
   "source": []
  }
 ],
 "metadata": {
  "anaconda-cloud": {},
  "kernelspec": {
   "display_name": "Python [conda env:anaconda]",
   "language": "python",
   "name": "conda-env-anaconda-py"
  },
  "language_info": {
   "codemirror_mode": {
    "name": "ipython",
    "version": 3
   },
   "file_extension": ".py",
   "mimetype": "text/x-python",
   "name": "python",
   "nbconvert_exporter": "python",
   "pygments_lexer": "ipython3",
   "version": "3.5.6"
  }
 },
 "nbformat": 4,
 "nbformat_minor": 2
}
